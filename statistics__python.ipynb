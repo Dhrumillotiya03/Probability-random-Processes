{
  "nbformat": 4,
  "nbformat_minor": 0,
  "metadata": {
    "colab": {
      "provenance": [],
      "authorship_tag": "ABX9TyP9YxFtaS1L5BDjtz93tv/F",
      "include_colab_link": true
    },
    "kernelspec": {
      "name": "python3",
      "display_name": "Python 3"
    },
    "language_info": {
      "name": "python"
    }
  },
  "cells": [
    {
      "cell_type": "markdown",
      "metadata": {
        "id": "view-in-github",
        "colab_type": "text"
      },
      "source": [
        "<a href=\"https://colab.research.google.com/github/Dhrumillotiya03/Probability-random-Processes/blob/main/statistics__python.ipynb\" target=\"_parent\"><img src=\"https://colab.research.google.com/assets/colab-badge.svg\" alt=\"Open In Colab\"/></a>"
      ]
    },
    {
      "cell_type": "code",
      "execution_count": 3,
      "metadata": {
        "colab": {
          "base_uri": "https://localhost:8080/"
        },
        "id": "mBvY2pYqOZyS",
        "outputId": "487bfe1c-345c-43d9-ae17-4d4f3855c810"
      },
      "outputs": [
        {
          "output_type": "stream",
          "name": "stdout",
          "text": [
            "Mounted at /content/gdrive\n"
          ]
        }
      ],
      "source": [
        "from google.colab import drive\n",
        "drive.mount('/content/gdrive')"
      ]
    },
    {
      "cell_type": "code",
      "source": [
        "import pickle"
      ],
      "metadata": {
        "id": "nXbtluAfOiTW"
      },
      "execution_count": 1,
      "outputs": []
    },
    {
      "cell_type": "code",
      "source": [
        "names = ['NewHunt_21D07000{}'.format(i) for i in range(1,10)]\n",
        "names.extend(['NewHunt_21D07000{}'.format(i) for i in range(10,)])"
      ],
      "metadata": {
        "id": "GCVUqx_3O0tq"
      },
      "execution_count": 2,
      "outputs": []
    },
    {
      "cell_type": "code",
      "source": [
        "from math import comb\n",
        "import matplotlib.pyplot as plt\n",
        "import numpy as np\n",
        "import random\n",
        "m = 100\n",
        "p = int(input('Enter value of p: '))\n",
        "def probability(p, n):\n",
        "    return comb(m, p)*comb(n-m, m-p)/comb(n, m)\n",
        "\n",
        "def nforpmax(p):\n",
        "    n_range = range(m, 5000, 1)\n",
        "    probabilities = []\n",
        "    for i in n_range:\n",
        "        probabilities.append(probability(p, i))\n",
        "    plt.stem(n_range, probabilities)\n",
        "    plt.show()\n",
        "\n",
        "    return(np.argmax(probabilities)+m)\n",
        "print(nforpmax(p))\n",
        "# p = 10: probability is maximum for n = 999"
      ],
      "metadata": {
        "id": "OOjKbuaB4vRk",
        "outputId": "0bc7cd37-48d5-4e4d-99ad-a6dcb197cca8",
        "colab": {
          "base_uri": "https://localhost:8080/",
          "height": 465
        }
      },
      "execution_count": 4,
      "outputs": [
        {
          "name": "stdout",
          "output_type": "stream",
          "text": [
            "Enter value of p: 10\n"
          ]
        },
        {
          "output_type": "display_data",
          "data": {
            "text/plain": [
              "<Figure size 640x480 with 1 Axes>"
            ],
            "image/png": "[encoded data removed]"
          },
          "metadata": {}
        },
        {
          "output_type": "stream",
          "name": "stdout",
          "text": [
            "999\n"
          ]
        }
      ]
    }
  ]
}